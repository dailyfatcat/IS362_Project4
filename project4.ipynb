{
 "cells": [
  {
   "cell_type": "code",
   "execution_count": null,
   "metadata": {
    "collapsed": true,
    "pycharm": {
     "name": "#%%\n"
    }
   },
   "outputs": [],
   "source": [
    "#import statements\n",
    "import pandas as pd\n"
   ]
  },
  {
   "cell_type": "markdown",
   "source": [
    "Start with the mushroom data in the pandas DataFrame that you constructed in your “Assignment –\n",
    "Preprocessing Data with sci-kit learn.”"
   ],
   "metadata": {
    "collapsed": false
   }
  },
  {
   "cell_type": "markdown",
   "source": [
    "ata = pd.read_csv('https://archive.ics.uci.edu/ml/machine-learning-databases/mushroom/agaricus-lepiota.data',\n",
    "                    sep=',', header=None, usecols=[0, 3, 5], names=['Class','Color','Odor'])\n",
    "\n",
    "\n",
    "mdata.replace(to_replace={\"Class\":{'p': 1, 'e': 0}}, inplace=True)\n",
    "mdata.replace(to_replace={\"Odor\":{'a':10, 'l':11, 'c':12, 'y':13, 'f':14, 'm':15, 'n':16, 'p':17, 's':18}}, inplace=True)\n",
    "mdata.replace(to_replace={\"Color\":{'n':20, 'b':21 , 'c':22, 'g':23, 'r':24, 'p':25, 'u':26, 'e':27, 'w':28, 'y':29}}, inplace=True)\n",
    "mdata.head()"
   ],
   "metadata": {
    "collapsed": false,
    "pycharm": {
     "name": "#%%\nmd"
    }
   }
  },
  {
   "cell_type": "markdown",
   "source": [
    "Use scikit-learn to determine which of the two predictor columns that you selected (odor and one\n",
    "other column of your choice) most accurately predicts whether or not a mushroom is poisonous. There is\n",
    "an additional challenge here—to use scikit-learn’s predictive classifiers, you’ll want to convert each of\n",
    "your two (numeric categorical) predictor columns into a set of columns. See for one approach pandas\n",
    "get_dummies() method.\n"
   ],
   "metadata": {
    "collapsed": false
   }
  },
  {
   "cell_type": "code",
   "source": [],
   "metadata": {
    "collapsed": false,
    "pycharm": {
     "name": "#%%\n"
    }
   },
   "execution_count": null,
   "outputs": []
  },
  {
   "cell_type": "markdown",
   "source": [
    "Clearly state your conclusions along with any recommendations for further analysis."
   ],
   "metadata": {
    "collapsed": false
   }
  }
 ],
 "metadata": {
  "kernelspec": {
   "display_name": "Python 3",
   "language": "python",
   "name": "python3"
  },
  "language_info": {
   "codemirror_mode": {
    "name": "ipython",
    "version": 2
   },
   "file_extension": ".py",
   "mimetype": "text/x-python",
   "name": "python",
   "nbconvert_exporter": "python",
   "pygments_lexer": "ipython2",
   "version": "2.7.6"
  }
 },
 "nbformat": 4,
 "nbformat_minor": 0
}